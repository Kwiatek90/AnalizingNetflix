{
 "cells": [
  {
   "cell_type": "code",
   "execution_count": 16,
   "metadata": {},
   "outputs": [],
   "source": [
    "#pobranie danych\n",
    "\n",
    "import pandas as pd\n",
    "df = pd.read_csv('ViewingActivity.csv')"
   ]
  },
  {
   "cell_type": "code",
   "execution_count": null,
   "metadata": {},
   "outputs": [],
   "source": [
    "# Zmiana nazw kolumn na polskie nazwy\n",
    "df = df.rename(columns = {'Start Time': 'Czas rozpoczecia',\n",
    "                          'Duration': 'Czas trwania',\n",
    "                          'Title': 'Tytul'})\n"
   ]
  },
  {
   "cell_type": "code",
   "execution_count": null,
   "metadata": {},
   "outputs": [],
   "source": [
    "# Zmiana nazw kolumn na polskie nazwy\n",
    "df = df.rename(columns = {'Start Time': 'Czas rozpoczecia',\n",
    "                          'Duration': 'Czas trwania',\n",
    "                          'Title': 'Tytul'})\n"
   ]
  },
  {
   "cell_type": "code",
   "execution_count": null,
   "metadata": {},
   "outputs": [],
   "source": [
    "# Zmiana nazw kolumn na polskie nazwy\n",
    "df = df.rename(columns = {'Start Time': 'Czas rozpoczecia',\n",
    "                          'Duration': 'Czas trwania',\n",
    "                          'Title': 'Tytul'})\n"
   ]
  },
  {
   "cell_type": "code",
   "execution_count": 17,
   "metadata": {},
   "outputs": [
    {
     "data": {
      "text/plain": [
       "(10862, 10)"
      ]
     },
     "execution_count": 17,
     "metadata": {},
     "output_type": "execute_result"
    }
   ],
   "source": [
    "#ilośc wierszy i kolumn w zbiorze danych\n",
    "df.shape"
   ]
  },
  {
   "cell_type": "code",
   "execution_count": 18,
   "metadata": {},
   "outputs": [
    {
     "data": {
      "text/html": [
       "<div>\n",
       "<style scoped>\n",
       "    .dataframe tbody tr th:only-of-type {\n",
       "        vertical-align: middle;\n",
       "    }\n",
       "\n",
       "    .dataframe tbody tr th {\n",
       "        vertical-align: top;\n",
       "    }\n",
       "\n",
       "    .dataframe thead th {\n",
       "        text-align: right;\n",
       "    }\n",
       "</style>\n",
       "<table border=\"1\" class=\"dataframe\">\n",
       "  <thead>\n",
       "    <tr style=\"text-align: right;\">\n",
       "      <th></th>\n",
       "      <th>Profile Name</th>\n",
       "      <th>Start Time</th>\n",
       "      <th>Duration</th>\n",
       "      <th>Attributes</th>\n",
       "      <th>Title</th>\n",
       "      <th>Supplemental Video Type</th>\n",
       "      <th>Device Type</th>\n",
       "      <th>Bookmark</th>\n",
       "      <th>Latest Bookmark</th>\n",
       "      <th>Country</th>\n",
       "    </tr>\n",
       "  </thead>\n",
       "  <tbody>\n",
       "    <tr>\n",
       "      <th>0</th>\n",
       "      <td>Beata</td>\n",
       "      <td>2023-02-25 20:45:18</td>\n",
       "      <td>01:41:25</td>\n",
       "      <td>NaN</td>\n",
       "      <td>Za duży na bajki</td>\n",
       "      <td>NaN</td>\n",
       "      <td>Sony PS4</td>\n",
       "      <td>01:41:25</td>\n",
       "      <td>01:41:25</td>\n",
       "      <td>PL (Poland)</td>\n",
       "    </tr>\n",
       "    <tr>\n",
       "      <th>1</th>\n",
       "      <td>Beata</td>\n",
       "      <td>2023-02-25 20:44:14</td>\n",
       "      <td>00:00:56</td>\n",
       "      <td>NaN</td>\n",
       "      <td>Zwiastun: Za duży na bajki</td>\n",
       "      <td>TRAILER</td>\n",
       "      <td>Sony PS4</td>\n",
       "      <td>00:00:56</td>\n",
       "      <td>00:00:56</td>\n",
       "      <td>PL (Poland)</td>\n",
       "    </tr>\n",
       "    <tr>\n",
       "      <th>2</th>\n",
       "      <td>Beata</td>\n",
       "      <td>2023-02-25 20:44:01</td>\n",
       "      <td>00:00:09</td>\n",
       "      <td>Autoplayed: user action: None;</td>\n",
       "      <td>Za duży na bajki</td>\n",
       "      <td>NaN</td>\n",
       "      <td>Sony PS4</td>\n",
       "      <td>00:00:09</td>\n",
       "      <td>Not latest view</td>\n",
       "      <td>PL (Poland)</td>\n",
       "    </tr>\n",
       "    <tr>\n",
       "      <th>3</th>\n",
       "      <td>Beata</td>\n",
       "      <td>2023-02-25 20:43:29</td>\n",
       "      <td>00:00:07</td>\n",
       "      <td>Autoplayed: user action: None;</td>\n",
       "      <td>Czerwona nota</td>\n",
       "      <td>NaN</td>\n",
       "      <td>Sony PS4</td>\n",
       "      <td>00:00:07</td>\n",
       "      <td>00:00:07</td>\n",
       "      <td>PL (Poland)</td>\n",
       "    </tr>\n",
       "    <tr>\n",
       "      <th>4</th>\n",
       "      <td>Beata</td>\n",
       "      <td>2023-02-25 20:42:41</td>\n",
       "      <td>00:00:06</td>\n",
       "      <td>Autoplayed: user action: None;</td>\n",
       "      <td>U ciebie czy u mnie? (teaser): U ciebie czy u ...</td>\n",
       "      <td>TEASER_TRAILER</td>\n",
       "      <td>Sony PS4</td>\n",
       "      <td>00:00:06</td>\n",
       "      <td>00:00:06</td>\n",
       "      <td>PL (Poland)</td>\n",
       "    </tr>\n",
       "  </tbody>\n",
       "</table>\n",
       "</div>"
      ],
      "text/plain": [
       "  Profile Name           Start Time  Duration  \\\n",
       "0        Beata  2023-02-25 20:45:18  01:41:25   \n",
       "1        Beata  2023-02-25 20:44:14  00:00:56   \n",
       "2        Beata  2023-02-25 20:44:01  00:00:09   \n",
       "3        Beata  2023-02-25 20:43:29  00:00:07   \n",
       "4        Beata  2023-02-25 20:42:41  00:00:06   \n",
       "\n",
       "                        Attributes  \\\n",
       "0                              NaN   \n",
       "1                              NaN   \n",
       "2  Autoplayed: user action: None;    \n",
       "3  Autoplayed: user action: None;    \n",
       "4  Autoplayed: user action: None;    \n",
       "\n",
       "                                               Title Supplemental Video Type  \\\n",
       "0                                   Za duży na bajki                     NaN   \n",
       "1                         Zwiastun: Za duży na bajki                 TRAILER   \n",
       "2                                   Za duży na bajki                     NaN   \n",
       "3                                      Czerwona nota                     NaN   \n",
       "4  U ciebie czy u mnie? (teaser): U ciebie czy u ...          TEASER_TRAILER   \n",
       "\n",
       "  Device Type  Bookmark  Latest Bookmark      Country  \n",
       "0    Sony PS4  01:41:25         01:41:25  PL (Poland)  \n",
       "1    Sony PS4  00:00:56         00:00:56  PL (Poland)  \n",
       "2    Sony PS4  00:00:09  Not latest view  PL (Poland)  \n",
       "3    Sony PS4  00:00:07         00:00:07  PL (Poland)  \n",
       "4    Sony PS4  00:00:06         00:00:06  PL (Poland)  "
      ]
     },
     "execution_count": 18,
     "metadata": {},
     "output_type": "execute_result"
    }
   ],
   "source": [
    "#wyświetla 5 pierwszych rekordów\n",
    "df.head(5)"
   ]
  },
  {
   "cell_type": "code",
   "execution_count": 19,
   "metadata": {},
   "outputs": [
    {
     "data": {
      "text/html": [
       "<div>\n",
       "<style scoped>\n",
       "    .dataframe tbody tr th:only-of-type {\n",
       "        vertical-align: middle;\n",
       "    }\n",
       "\n",
       "    .dataframe tbody tr th {\n",
       "        vertical-align: top;\n",
       "    }\n",
       "\n",
       "    .dataframe thead th {\n",
       "        text-align: right;\n",
       "    }\n",
       "</style>\n",
       "<table border=\"1\" class=\"dataframe\">\n",
       "  <thead>\n",
       "    <tr style=\"text-align: right;\">\n",
       "      <th></th>\n",
       "      <th>Start Time</th>\n",
       "      <th>Duration</th>\n",
       "      <th>Title</th>\n",
       "    </tr>\n",
       "  </thead>\n",
       "  <tbody>\n",
       "    <tr>\n",
       "      <th>0</th>\n",
       "      <td>2023-02-25 20:45:18</td>\n",
       "      <td>01:41:25</td>\n",
       "      <td>Za duży na bajki</td>\n",
       "    </tr>\n",
       "    <tr>\n",
       "      <th>1</th>\n",
       "      <td>2023-02-25 20:44:14</td>\n",
       "      <td>00:00:56</td>\n",
       "      <td>Zwiastun: Za duży na bajki</td>\n",
       "    </tr>\n",
       "    <tr>\n",
       "      <th>2</th>\n",
       "      <td>2023-02-25 20:44:01</td>\n",
       "      <td>00:00:09</td>\n",
       "      <td>Za duży na bajki</td>\n",
       "    </tr>\n",
       "    <tr>\n",
       "      <th>3</th>\n",
       "      <td>2023-02-25 20:43:29</td>\n",
       "      <td>00:00:07</td>\n",
       "      <td>Czerwona nota</td>\n",
       "    </tr>\n",
       "    <tr>\n",
       "      <th>4</th>\n",
       "      <td>2023-02-25 20:42:41</td>\n",
       "      <td>00:00:06</td>\n",
       "      <td>U ciebie czy u mnie? (teaser): U ciebie czy u ...</td>\n",
       "    </tr>\n",
       "  </tbody>\n",
       "</table>\n",
       "</div>"
      ],
      "text/plain": [
       "            Start Time  Duration  \\\n",
       "0  2023-02-25 20:45:18  01:41:25   \n",
       "1  2023-02-25 20:44:14  00:00:56   \n",
       "2  2023-02-25 20:44:01  00:00:09   \n",
       "3  2023-02-25 20:43:29  00:00:07   \n",
       "4  2023-02-25 20:42:41  00:00:06   \n",
       "\n",
       "                                               Title  \n",
       "0                                   Za duży na bajki  \n",
       "1                         Zwiastun: Za duży na bajki  \n",
       "2                                   Za duży na bajki  \n",
       "3                                      Czerwona nota  \n",
       "4  U ciebie czy u mnie? (teaser): U ciebie czy u ...  "
      ]
     },
     "execution_count": 19,
     "metadata": {},
     "output_type": "execute_result"
    }
   ],
   "source": [
    "#usuwamy niepotrzebne tabele, w naszym przypadku chcemy przeanalizować ile i kiedy oglądaliśmy \"Dom z papier\"\n",
    "\n",
    "df = df.drop(['Profile Name', 'Attributes', 'Supplemental Video Type', 'Device Type', 'Bookmark', 'Latest Bookmark', 'Country'], axis=1)\n",
    "df.head(5) "
   ]
  },
  {
   "cell_type": "code",
   "execution_count": 20,
   "metadata": {},
   "outputs": [],
   "source": [
    "# Zmiana nazw kolumn na polskie nazwy\n",
    "df = df.rename(columns = {'Start Time': 'Czas rozpoczecia',\n",
    "                          'Duration': 'Czas trwania',\n",
    "                          'Title': 'Tytul'})\n"
   ]
  },
  {
   "cell_type": "code",
   "execution_count": 21,
   "metadata": {},
   "outputs": [
    {
     "data": {
      "text/plain": [
       "Czas rozpoczecia    object\n",
       "Czas trwania        object\n",
       "Tytul               object\n",
       "dtype: object"
      ]
     },
     "execution_count": 21,
     "metadata": {},
     "output_type": "execute_result"
    }
   ],
   "source": [
    "#sprawdzanie jakie mamy formaty znaków w tabelkach\n",
    "df.dtypes"
   ]
  },
  {
   "cell_type": "code",
   "execution_count": 22,
   "metadata": {},
   "outputs": [
    {
     "data": {
      "text/plain": [
       "Czas rozpoczecia    datetime64[ns, UTC]\n",
       "Czas trwania                     object\n",
       "Tytul                            object\n",
       "dtype: object"
      ]
     },
     "execution_count": 22,
     "metadata": {},
     "output_type": "execute_result"
    }
   ],
   "source": [
    "#zmiana foramtu danych abyśmy mogli operować na tych danych i je sumować jako datetime oraz żeby te dane miały naszą lokalną strefę czasową\n",
    "df['Czas rozpoczecia'] = pd.to_datetime(df['Czas rozpoczecia'], utc=True)\n",
    "df.dtypes"
   ]
  },
  {
   "cell_type": "code",
   "execution_count": 23,
   "metadata": {},
   "outputs": [
    {
     "data": {
      "text/html": [
       "<div>\n",
       "<style scoped>\n",
       "    .dataframe tbody tr th:only-of-type {\n",
       "        vertical-align: middle;\n",
       "    }\n",
       "\n",
       "    .dataframe tbody tr th {\n",
       "        vertical-align: top;\n",
       "    }\n",
       "\n",
       "    .dataframe thead th {\n",
       "        text-align: right;\n",
       "    }\n",
       "</style>\n",
       "<table border=\"1\" class=\"dataframe\">\n",
       "  <thead>\n",
       "    <tr style=\"text-align: right;\">\n",
       "      <th></th>\n",
       "      <th>Czas rozpoczecia</th>\n",
       "      <th>Czas trwania</th>\n",
       "      <th>Tytul</th>\n",
       "    </tr>\n",
       "  </thead>\n",
       "  <tbody>\n",
       "    <tr>\n",
       "      <th>0</th>\n",
       "      <td>2023-02-25 21:45:18+01:00</td>\n",
       "      <td>01:41:25</td>\n",
       "      <td>Za duży na bajki</td>\n",
       "    </tr>\n",
       "    <tr>\n",
       "      <th>1</th>\n",
       "      <td>2023-02-25 21:44:14+01:00</td>\n",
       "      <td>00:00:56</td>\n",
       "      <td>Zwiastun: Za duży na bajki</td>\n",
       "    </tr>\n",
       "    <tr>\n",
       "      <th>2</th>\n",
       "      <td>2023-02-25 21:44:01+01:00</td>\n",
       "      <td>00:00:09</td>\n",
       "      <td>Za duży na bajki</td>\n",
       "    </tr>\n",
       "    <tr>\n",
       "      <th>3</th>\n",
       "      <td>2023-02-25 21:43:29+01:00</td>\n",
       "      <td>00:00:07</td>\n",
       "      <td>Czerwona nota</td>\n",
       "    </tr>\n",
       "    <tr>\n",
       "      <th>4</th>\n",
       "      <td>2023-02-25 21:42:41+01:00</td>\n",
       "      <td>00:00:06</td>\n",
       "      <td>U ciebie czy u mnie? (teaser): U ciebie czy u ...</td>\n",
       "    </tr>\n",
       "  </tbody>\n",
       "</table>\n",
       "</div>"
      ],
      "text/plain": [
       "           Czas rozpoczecia Czas trwania  \\\n",
       "0 2023-02-25 21:45:18+01:00     01:41:25   \n",
       "1 2023-02-25 21:44:14+01:00     00:00:56   \n",
       "2 2023-02-25 21:44:01+01:00     00:00:09   \n",
       "3 2023-02-25 21:43:29+01:00     00:00:07   \n",
       "4 2023-02-25 21:42:41+01:00     00:00:06   \n",
       "\n",
       "                                               Tytul  \n",
       "0                                   Za duży na bajki  \n",
       "1                         Zwiastun: Za duży na bajki  \n",
       "2                                   Za duży na bajki  \n",
       "3                                      Czerwona nota  \n",
       "4  U ciebie czy u mnie? (teaser): U ciebie czy u ...  "
      ]
     },
     "execution_count": 23,
     "metadata": {},
     "output_type": "execute_result"
    }
   ],
   "source": [
    "#zmieniamy kolumne Czas rozpoczecia na index aby moć przeprowadzić konwersje danych\n",
    "df = df.set_index('Czas rozpoczecia')\n",
    "\n",
    "#konwertuje czas na polski\n",
    "df.index = df.index.tz_convert('Europe/Warsaw')\n",
    "\n",
    "#zmieniamy kolumne w wcześniejszy typ danych \n",
    "df = df.reset_index()\n",
    "\n",
    "df.head(5)"
   ]
  },
  {
   "cell_type": "code",
   "execution_count": 24,
   "metadata": {},
   "outputs": [
    {
     "data": {
      "text/plain": [
       "Czas rozpoczecia    datetime64[ns, Europe/Warsaw]\n",
       "Czas trwania                      timedelta64[ns]\n",
       "Tytul                                      object\n",
       "dtype: object"
      ]
     },
     "execution_count": 24,
     "metadata": {},
     "output_type": "execute_result"
    }
   ],
   "source": [
    "#konwersja kolumny na typ danych który rozumie tą kolumne jako czas trwania a nie datetime\n",
    "df['Czas trwania'] = pd.to_timedelta(df['Czas trwania'])\n",
    "df.dtypes"
   ]
  },
  {
   "cell_type": "code",
   "execution_count": 25,
   "metadata": {},
   "outputs": [
    {
     "data": {
      "text/html": [
       "<div>\n",
       "<style scoped>\n",
       "    .dataframe tbody tr th:only-of-type {\n",
       "        vertical-align: middle;\n",
       "    }\n",
       "\n",
       "    .dataframe tbody tr th {\n",
       "        vertical-align: top;\n",
       "    }\n",
       "\n",
       "    .dataframe thead th {\n",
       "        text-align: right;\n",
       "    }\n",
       "</style>\n",
       "<table border=\"1\" class=\"dataframe\">\n",
       "  <thead>\n",
       "    <tr style=\"text-align: right;\">\n",
       "      <th></th>\n",
       "      <th>Czas rozpoczecia</th>\n",
       "      <th>Czas trwania</th>\n",
       "      <th>Tytul</th>\n",
       "    </tr>\n",
       "  </thead>\n",
       "  <tbody>\n",
       "    <tr>\n",
       "      <th>288</th>\n",
       "      <td>2022-07-04 14:17:25+02:00</td>\n",
       "      <td>0 days 00:00:35</td>\n",
       "      <td>Sezon 1 (Klip): Dom z papieru: Korea</td>\n",
       "    </tr>\n",
       "    <tr>\n",
       "      <th>366</th>\n",
       "      <td>2022-01-07 20:06:38+01:00</td>\n",
       "      <td>0 days 00:33:26</td>\n",
       "      <td>Dom z papieru: Część 1: Odcinek 1 (Odcinek 1)</td>\n",
       "    </tr>\n",
       "    <tr>\n",
       "      <th>367</th>\n",
       "      <td>2022-01-07 20:05:16+01:00</td>\n",
       "      <td>0 days 00:00:07</td>\n",
       "      <td>Dom z papieru: Część 1: Odcinek 1 (Odcinek 1)</td>\n",
       "    </tr>\n",
       "    <tr>\n",
       "      <th>368</th>\n",
       "      <td>2022-01-06 15:49:23+01:00</td>\n",
       "      <td>0 days 00:13:27</td>\n",
       "      <td>Dom z papieru: Część 1: Odcinek 1 (Odcinek 1)</td>\n",
       "    </tr>\n",
       "    <tr>\n",
       "      <th>369</th>\n",
       "      <td>2022-01-06 15:45:46+01:00</td>\n",
       "      <td>0 days 00:01:18</td>\n",
       "      <td>Dom z papieru (zwiastun)</td>\n",
       "    </tr>\n",
       "    <tr>\n",
       "      <th>...</th>\n",
       "      <td>...</td>\n",
       "      <td>...</td>\n",
       "      <td>...</td>\n",
       "    </tr>\n",
       "    <tr>\n",
       "      <th>10482</th>\n",
       "      <td>2018-10-19 12:49:08+02:00</td>\n",
       "      <td>0 days 00:49:48</td>\n",
       "      <td>Dom z papieru: Część 1: Odcinek 4 (Odcinek 4)</td>\n",
       "    </tr>\n",
       "    <tr>\n",
       "      <th>10483</th>\n",
       "      <td>2018-10-17 15:24:20+02:00</td>\n",
       "      <td>0 days 00:00:01</td>\n",
       "      <td>Dom z papieru: Część 1: Odcinek 4 (Odcinek 4)</td>\n",
       "    </tr>\n",
       "    <tr>\n",
       "      <th>10484</th>\n",
       "      <td>2018-10-17 14:06:27+02:00</td>\n",
       "      <td>0 days 00:49:55</td>\n",
       "      <td>Dom z papieru: Część 1: Odcinek 3 (Odcinek 3)</td>\n",
       "    </tr>\n",
       "    <tr>\n",
       "      <th>10485</th>\n",
       "      <td>2018-10-17 13:25:51+02:00</td>\n",
       "      <td>0 days 00:39:20</td>\n",
       "      <td>Dom z papieru: Część 1: Odcinek 2 (Odcinek 2)</td>\n",
       "    </tr>\n",
       "    <tr>\n",
       "      <th>10486</th>\n",
       "      <td>2018-10-17 12:38:48+02:00</td>\n",
       "      <td>0 days 00:46:49</td>\n",
       "      <td>Dom z papieru: Część 1: Odcinek 1 (Odcinek 1)</td>\n",
       "    </tr>\n",
       "  </tbody>\n",
       "</table>\n",
       "<p>83 rows × 3 columns</p>\n",
       "</div>"
      ],
      "text/plain": [
       "               Czas rozpoczecia    Czas trwania  \\\n",
       "288   2022-07-04 14:17:25+02:00 0 days 00:00:35   \n",
       "366   2022-01-07 20:06:38+01:00 0 days 00:33:26   \n",
       "367   2022-01-07 20:05:16+01:00 0 days 00:00:07   \n",
       "368   2022-01-06 15:49:23+01:00 0 days 00:13:27   \n",
       "369   2022-01-06 15:45:46+01:00 0 days 00:01:18   \n",
       "...                         ...             ...   \n",
       "10482 2018-10-19 12:49:08+02:00 0 days 00:49:48   \n",
       "10483 2018-10-17 15:24:20+02:00 0 days 00:00:01   \n",
       "10484 2018-10-17 14:06:27+02:00 0 days 00:49:55   \n",
       "10485 2018-10-17 13:25:51+02:00 0 days 00:39:20   \n",
       "10486 2018-10-17 12:38:48+02:00 0 days 00:46:49   \n",
       "\n",
       "                                               Tytul  \n",
       "288             Sezon 1 (Klip): Dom z papieru: Korea  \n",
       "366    Dom z papieru: Część 1: Odcinek 1 (Odcinek 1)  \n",
       "367    Dom z papieru: Część 1: Odcinek 1 (Odcinek 1)  \n",
       "368    Dom z papieru: Część 1: Odcinek 1 (Odcinek 1)  \n",
       "369                         Dom z papieru (zwiastun)  \n",
       "...                                              ...  \n",
       "10482  Dom z papieru: Część 1: Odcinek 4 (Odcinek 4)  \n",
       "10483  Dom z papieru: Część 1: Odcinek 4 (Odcinek 4)  \n",
       "10484  Dom z papieru: Część 1: Odcinek 3 (Odcinek 3)  \n",
       "10485  Dom z papieru: Część 1: Odcinek 2 (Odcinek 2)  \n",
       "10486  Dom z papieru: Część 1: Odcinek 1 (Odcinek 1)  \n",
       "\n",
       "[83 rows x 3 columns]"
      ]
     },
     "execution_count": 25,
     "metadata": {},
     "output_type": "execute_result"
    }
   ],
   "source": [
    "#sprawdzamy pod jaką konkretnie nazwą widnieje serial Dom z papieru\n",
    "df[df['Tytul'].str.contains('Dom z')]"
   ]
  },
  {
   "cell_type": "code",
   "execution_count": 26,
   "metadata": {},
   "outputs": [],
   "source": [
    "#towrzymy zmienną która filtruje dane z naszego serialu\n",
    "domZPapieru = df[df['Tytul'].str.contains('Dom z', regex=False)]"
   ]
  },
  {
   "cell_type": "code",
   "execution_count": 27,
   "metadata": {},
   "outputs": [
    {
     "data": {
      "text/plain": [
       "(67, 3)"
      ]
     },
     "execution_count": 27,
     "metadata": {},
     "output_type": "execute_result"
    }
   ],
   "source": [
    "#odfliltrowanie krótkich czasów trwania\n",
    "domZPapieru = domZPapieru[(domZPapieru['Czas trwania'] > '0 days 00:01:00')]\n",
    "domZPapieru.shape"
   ]
  },
  {
   "cell_type": "code",
   "execution_count": 28,
   "metadata": {},
   "outputs": [
    {
     "data": {
      "text/plain": [
       "Timedelta('1 days 14:23:38')"
      ]
     },
     "execution_count": 28,
     "metadata": {},
     "output_type": "execute_result"
    }
   ],
   "source": [
    "#Ila czasu spędziliśmy na oglądaniu Dom z papieru?\n",
    "domZPapieru['Czas trwania'].sum()"
   ]
  },
  {
   "cell_type": "code",
   "execution_count": 29,
   "metadata": {},
   "outputs": [
    {
     "data": {
      "text/html": [
       "<div>\n",
       "<style scoped>\n",
       "    .dataframe tbody tr th:only-of-type {\n",
       "        vertical-align: middle;\n",
       "    }\n",
       "\n",
       "    .dataframe tbody tr th {\n",
       "        vertical-align: top;\n",
       "    }\n",
       "\n",
       "    .dataframe thead th {\n",
       "        text-align: right;\n",
       "    }\n",
       "</style>\n",
       "<table border=\"1\" class=\"dataframe\">\n",
       "  <thead>\n",
       "    <tr style=\"text-align: right;\">\n",
       "      <th></th>\n",
       "      <th>Czas rozpoczecia</th>\n",
       "      <th>Czas trwania</th>\n",
       "      <th>Tytul</th>\n",
       "      <th>Dzien_tygodnia</th>\n",
       "      <th>Godzina</th>\n",
       "    </tr>\n",
       "  </thead>\n",
       "  <tbody>\n",
       "    <tr>\n",
       "      <th>366</th>\n",
       "      <td>2022-01-07 20:06:38+01:00</td>\n",
       "      <td>0 days 00:33:26</td>\n",
       "      <td>Dom z papieru: Część 1: Odcinek 1 (Odcinek 1)</td>\n",
       "      <td>4</td>\n",
       "      <td>20</td>\n",
       "    </tr>\n",
       "  </tbody>\n",
       "</table>\n",
       "</div>"
      ],
      "text/plain": [
       "             Czas rozpoczecia    Czas trwania  \\\n",
       "366 2022-01-07 20:06:38+01:00 0 days 00:33:26   \n",
       "\n",
       "                                             Tytul  Dzien_tygodnia  Godzina  \n",
       "366  Dom z papieru: Część 1: Odcinek 1 (Odcinek 1)               4       20  "
      ]
     },
     "execution_count": 29,
     "metadata": {},
     "output_type": "execute_result"
    }
   ],
   "source": [
    "#W które dni tygodnia najwięcej obejrzałem odcinków Dom z papieru?\n",
    "#W jakich godzinach zaczynam oglądać serial?\n",
    "\n",
    "domZPapieru['Dzien_tygodnia'] = domZPapieru['Czas rozpoczecia'].dt.weekday\n",
    "domZPapieru['Godzina'] = domZPapieru['Czas rozpoczecia'].dt.hour\n",
    "\n",
    "domZPapieru.head(1)"
   ]
  },
  {
   "cell_type": "code",
   "execution_count": 30,
   "metadata": {},
   "outputs": [],
   "source": [
    "%matplotlib inline\n",
    "import matplotlib"
   ]
  },
  {
   "cell_type": "code",
   "execution_count": 33,
   "metadata": {},
   "outputs": [
    {
     "data": {
      "text/plain": [
       "<Axes: title={'center': 'Ilośc odcinków oglądanych na przestrzeni tygodnia'}>"
      ]
     },
     "execution_count": 33,
     "metadata": {},
     "output_type": "execute_result"
    },
    {
     "data": {
      "image/png": "[encoded data removed]",
      "text/plain": [
       "<Figure size 2000x1000 with 1 Axes>"
      ]
     },
     "metadata": {},
     "output_type": "display_data"
    }
   ],
   "source": [
    "#tworzymy kategorie dni w kolejnośc od poniedziałku do niedzieli\n",
    "domZPapieru['Dzien_tygodnia'] = pd.Categorical(domZPapieru['Dzien_tygodnia'], categories=\n",
    "    [0,1,2,3,4,5,6],\n",
    "    ordered=True)\n",
    "\n",
    "#zliczanie wartości z tygodnia\n",
    "domZPapieru_by_day = domZPapieru['Dzien_tygodnia'].value_counts()\n",
    "domZPapieru_by_day = domZPapieru_by_day.sort_index()\n",
    "\n",
    "#większe litery żeby łatiwej było odczytać\n",
    "matplotlib.rcParams.update({'font.size': 22})\n",
    "\n",
    "domZPapieru_by_day.plot(kind='bar', figsize=(20,10), title='Ilośc odcinków oglądanych na przestrzeni tygodnia')"
   ]
  },
  {
   "cell_type": "code",
   "execution_count": 34,
   "metadata": {},
   "outputs": [
    {
     "data": {
      "text/plain": [
       "<Axes: title={'center': 'O której godzinie zaczynałem oglądać odcinki'}>"
      ]
     },
     "execution_count": 34,
     "metadata": {},
     "output_type": "execute_result"
    },
    {
     "data": {
      "image/png": "[encoded data removed]",
      "text/plain": [
       "<Figure size 2000x1000 with 1 Axes>"
      ]
     },
     "metadata": {},
     "output_type": "display_data"
    }
   ],
   "source": [
    "#podobnie jest z tworzeniem diagramu dotyczącego oglądalnosci w trakcie dnia\n",
    "domZPapieru['Godzina'] = pd.Categorical(domZPapieru['Godzina'], categories=\n",
    "    [0,1,2,3,4,5,6,7,8,9,10,11,12,13,14,15,16,17,18,19,20,21,22,23],\n",
    "    ordered=True)\n",
    "\n",
    "domZPapieru_by_Godzina = domZPapieru['Godzina'].value_counts()\n",
    "domZPapieru_by_Godzina = domZPapieru_by_Godzina.sort_index()\n",
    "\n",
    "domZPapieru_by_Godzina.plot(kind='bar', figsize=(20,10), title='O której godzinie zaczynałem oglądać odcinki')"
   ]
  },
  {
   "cell_type": "code",
   "execution_count": null,
   "metadata": {},
   "outputs": [],
   "source": []
  }
 ],
 "metadata": {
  "kernelspec": {
   "display_name": "base",
   "language": "python",
   "name": "python3"
  },
  "language_info": {
   "codemirror_mode": {
    "name": "ipython",
    "version": 3
   },
   "file_extension": ".py",
   "mimetype": "text/x-python",
   "name": "python",
   "nbconvert_exporter": "python",
   "pygments_lexer": "ipython3",
   "version": "3.9.16"
  },
  "orig_nbformat": 4
 },
 "nbformat": 4,
 "nbformat_minor": 2
}
